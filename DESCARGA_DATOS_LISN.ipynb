{
 "cells": [
  {
   "cell_type": "markdown",
   "id": "64a5621e-01fd-4bb0-a4e0-5ba8d382f2ea",
   "metadata": {},
   "source": [
    "<img src=\"https://upload.wikimedia.org/wikipedia/commons/f/f7/Uni-logo_transparente_granate.png\" alt= \"LOGO CAT\" width=400 height=400 align = \"right\">\n",
    "\n",
    "<br>\n",
    "<h1><font color=\"#7F000E\" size=5> Maestria de Ciencias de la Computacion UNI</font></h1>\n",
    "\n",
    "<h1><font color=\"#7F000R\" size=6> TESIS DE MAESTRIA I-MCC701 </font></h1>\n",
    "<h1><font color=\"#7F000E\" size=5> Desarrollo de sistema de  pronóstico de centelleo ionosférico sobre el Perú para alerta de\n",
    "perturbaciones en señales satelitales\n",
    " </font></h1>\n",
    "<br>\n",
    "\n",
    "<br>\n",
    "<div style=\"text-align:right\">\n",
    "<font color=\"#7F000E\" size=3> Alumno:  Alexander Valdez Portocarrero</font><br>\n",
    "<font color=\"#7F000E\" size=3> Codigo: 20207072E </font><br>\n",
    "<font color=\"#7F000e\" size=3> Ciclo 2024-2 </font><br>\n",
    "</div>\n"
   ]
  },
  {
   "cell_type": "markdown",
   "id": "ac5196f2-6505-440d-8415-92640e150c13",
   "metadata": {},
   "source": [
    "---"
   ]
  },
  {
   "cell_type": "markdown",
   "id": "01969bec-43d8-4b3d-aef2-629d0227003e",
   "metadata": {},
   "source": [
    "# **DESCARGA DE DATOS - ESTACION JICAMARCA**"
   ]
  },
  {
   "cell_type": "code",
   "execution_count": null,
   "id": "babcbba0-2016-4210-8920-c37865837fab",
   "metadata": {},
   "outputs": [],
   "source": []
  },
  {
   "cell_type": "code",
   "execution_count": null,
   "id": "7d6b921c-30b1-4db2-9d4d-9c87182a00b0",
   "metadata": {},
   "outputs": [],
   "source": []
  },
  {
   "cell_type": "code",
   "execution_count": null,
   "id": "91927788-85a9-49e3-bc47-47d1dc0e7fae",
   "metadata": {},
   "outputs": [],
   "source": []
  },
  {
   "cell_type": "code",
   "execution_count": null,
   "id": "ef502db1-a207-4b95-921b-1ced5f797398",
   "metadata": {},
   "outputs": [],
   "source": []
  },
  {
   "cell_type": "code",
   "execution_count": null,
   "id": "fea93ede-5c00-4142-b1f9-594e73ad62b7",
   "metadata": {},
   "outputs": [],
   "source": []
  },
  {
   "cell_type": "code",
   "execution_count": null,
   "id": "f23f1978-f0c6-4c40-a6fc-230d581b7f56",
   "metadata": {},
   "outputs": [],
   "source": []
  },
  {
   "cell_type": "code",
   "execution_count": null,
   "id": "848e8f3e-a524-43be-a5f0-1d0dd046eadd",
   "metadata": {},
   "outputs": [],
   "source": []
  }
 ],
 "metadata": {
  "kernelspec": {
   "display_name": "Python 3 (ipykernel)",
   "language": "python",
   "name": "python3"
  },
  "language_info": {
   "codemirror_mode": {
    "name": "ipython",
    "version": 3
   },
   "file_extension": ".py",
   "mimetype": "text/x-python",
   "name": "python",
   "nbconvert_exporter": "python",
   "pygments_lexer": "ipython3",
   "version": "3.12.7"
  }
 },
 "nbformat": 4,
 "nbformat_minor": 5
}
